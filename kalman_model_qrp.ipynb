{
  "cells": [
    {
      "cell_type": "markdown",
      "source": [
        "## Improved Model - Kalman Residual Model"
      ],
      "metadata": {
        "id": "TzX15-u0C3YJ"
      }
    },
    {
      "cell_type": "markdown",
      "source": [
        "Implemented a Kalman-residual pairs trading strategy using BankNifty and Nifty spreads, dynamically estimating the hedge ratio with a Kalman filter. Generated trading signals based on the residual z-score with adaptive entry/exit thresholds and volatility scaling. Backtested the strategy over the dataset, calculating trade-wise PnL and overall performance metrics. The strategy achieved an absolute return of 3.22M, an annualized Sharpe of 6.02, a very low maximum drawdown of ~0.31%, a high win rate of 89.5%, and executed 2848 trades, demonstrating strong risk-adjusted performance."
      ],
      "metadata": {
        "id": "Y2HeUnLlDB7Q"
      }
    },
    {
      "cell_type": "markdown",
      "source": [
        "Imported necessary libraries"
      ],
      "metadata": {
        "id": "YOYD9TRBA8V7"
      }
    },
    {
      "cell_type": "code",
      "source": [
        "!pip install tqdm\n",
        "\n",
        "import os\n",
        "import numpy as np\n",
        "import pandas as pd\n",
        "import matplotlib.pyplot as plt\n",
        "from tqdm import tqdm\n",
        "import warnings\n",
        "warnings.filterwarnings('ignore')\n",
        "plt.rcParams.update({'figure.figsize': (12,6)})\n",
        "\n",
        "DATA_PATH = '/content/drive/MyDrive/Quant_project/data.parquet'\n"
      ],
      "metadata": {
        "colab": {
          "base_uri": "https://localhost:8080/"
        },
        "id": "Th6iyt2Fo7HN",
        "outputId": "59d11637-b64e-4257-cce9-3bb47ce6641a"
      },
      "execution_count": 1,
      "outputs": [
        {
          "output_type": "stream",
          "name": "stdout",
          "text": [
            "Requirement already satisfied: tqdm in /usr/local/lib/python3.12/dist-packages (4.67.1)\n"
          ]
        }
      ]
    },
    {
      "cell_type": "markdown",
      "source": [
        "Loaded and cleaned the Nifty and BankNifty implied volatility data, filtered it for regular trading hours, converted relevant columns to numeric types, dropped any missing values, and calculated the spread between BankNifty and Nifty."
      ],
      "metadata": {
        "id": "yiSS3MocA_DU"
      }
    },
    {
      "cell_type": "code",
      "source": [
        "df = pd.read_parquet(DATA_PATH)\n",
        "\n",
        "if not np.issubdtype(df.index.dtype, np.datetime64):\n",
        "    df.index = pd.to_datetime(df.index)\n",
        "\n",
        "df = df.sort_index()\n",
        "df = df.between_time('09:15','15:30')\n",
        "\n",
        "bn_col = 'banknifty'\n",
        "nf_col = 'nifty'\n",
        "tte_col = 'tte'\n",
        "\n",
        "df[bn_col] = pd.to_numeric(df[bn_col], errors='coerce')\n",
        "df[nf_col] = pd.to_numeric(df[nf_col], errors='coerce')\n",
        "df[tte_col] = pd.to_numeric(df[tte_col], errors='coerce')\n",
        "df = df.dropna(subset=[bn_col, nf_col, tte_col])\n",
        "\n",
        "df['spread'] = df[bn_col] - df[nf_col]\n",
        "\n",
        "print(f\"Loaded. Rows: {len(df)}\")\n",
        "df.head()\n"
      ],
      "metadata": {
        "colab": {
          "base_uri": "https://localhost:8080/",
          "height": 255
        },
        "id": "m7gAai30o73O",
        "outputId": "0225a59d-331a-43ec-a53b-ba2f762b401d"
      },
      "execution_count": 2,
      "outputs": [
        {
          "output_type": "stream",
          "name": "stdout",
          "text": [
            "Loaded. Rows: 180009\n"
          ]
        },
        {
          "output_type": "execute_result",
          "data": {
            "text/plain": [
              "                     banknifty     nifty  tte    spread\n",
              "time                                                   \n",
              "2021-01-01 09:15:00   0.286058  0.199729   27  0.086329\n",
              "2021-01-01 09:16:00   0.285381  0.200433   27  0.084948\n",
              "2021-01-01 09:17:00   0.284233  0.200004   27  0.084229\n",
              "2021-01-01 09:18:00   0.286104  0.199860   27  0.086244\n",
              "2021-01-01 09:19:00   0.285539  0.198951   27  0.086588"
            ],
            "text/html": [
              "\n",
              "  <div id=\"df-b350c42a-39d8-4f22-91c4-de361e1d628c\" class=\"colab-df-container\">\n",
              "    <div>\n",
              "<style scoped>\n",
              "    .dataframe tbody tr th:only-of-type {\n",
              "        vertical-align: middle;\n",
              "    }\n",
              "\n",
              "    .dataframe tbody tr th {\n",
              "        vertical-align: top;\n",
              "    }\n",
              "\n",
              "    .dataframe thead th {\n",
              "        text-align: right;\n",
              "    }\n",
              "</style>\n",
              "<table border=\"1\" class=\"dataframe\">\n",
              "  <thead>\n",
              "    <tr style=\"text-align: right;\">\n",
              "      <th></th>\n",
              "      <th>banknifty</th>\n",
              "      <th>nifty</th>\n",
              "      <th>tte</th>\n",
              "      <th>spread</th>\n",
              "    </tr>\n",
              "    <tr>\n",
              "      <th>time</th>\n",
              "      <th></th>\n",
              "      <th></th>\n",
              "      <th></th>\n",
              "      <th></th>\n",
              "    </tr>\n",
              "  </thead>\n",
              "  <tbody>\n",
              "    <tr>\n",
              "      <th>2021-01-01 09:15:00</th>\n",
              "      <td>0.286058</td>\n",
              "      <td>0.199729</td>\n",
              "      <td>27</td>\n",
              "      <td>0.086329</td>\n",
              "    </tr>\n",
              "    <tr>\n",
              "      <th>2021-01-01 09:16:00</th>\n",
              "      <td>0.285381</td>\n",
              "      <td>0.200433</td>\n",
              "      <td>27</td>\n",
              "      <td>0.084948</td>\n",
              "    </tr>\n",
              "    <tr>\n",
              "      <th>2021-01-01 09:17:00</th>\n",
              "      <td>0.284233</td>\n",
              "      <td>0.200004</td>\n",
              "      <td>27</td>\n",
              "      <td>0.084229</td>\n",
              "    </tr>\n",
              "    <tr>\n",
              "      <th>2021-01-01 09:18:00</th>\n",
              "      <td>0.286104</td>\n",
              "      <td>0.199860</td>\n",
              "      <td>27</td>\n",
              "      <td>0.086244</td>\n",
              "    </tr>\n",
              "    <tr>\n",
              "      <th>2021-01-01 09:19:00</th>\n",
              "      <td>0.285539</td>\n",
              "      <td>0.198951</td>\n",
              "      <td>27</td>\n",
              "      <td>0.086588</td>\n",
              "    </tr>\n",
              "  </tbody>\n",
              "</table>\n",
              "</div>\n",
              "    <div class=\"colab-df-buttons\">\n",
              "\n",
              "  <div class=\"colab-df-container\">\n",
              "    <button class=\"colab-df-convert\" onclick=\"convertToInteractive('df-b350c42a-39d8-4f22-91c4-de361e1d628c')\"\n",
              "            title=\"Convert this dataframe to an interactive table.\"\n",
              "            style=\"display:none;\">\n",
              "\n",
              "  <svg xmlns=\"http://www.w3.org/2000/svg\" height=\"24px\" viewBox=\"0 -960 960 960\">\n",
              "    <path d=\"M120-120v-720h720v720H120Zm60-500h600v-160H180v160Zm220 220h160v-160H400v160Zm0 220h160v-160H400v160ZM180-400h160v-160H180v160Zm440 0h160v-160H620v160ZM180-180h160v-160H180v160Zm440 0h160v-160H620v160Z\"/>\n",
              "  </svg>\n",
              "    </button>\n",
              "\n",
              "  <style>\n",
              "    .colab-df-container {\n",
              "      display:flex;\n",
              "      gap: 12px;\n",
              "    }\n",
              "\n",
              "    .colab-df-convert {\n",
              "      background-color: #E8F0FE;\n",
              "      border: none;\n",
              "      border-radius: 50%;\n",
              "      cursor: pointer;\n",
              "      display: none;\n",
              "      fill: #1967D2;\n",
              "      height: 32px;\n",
              "      padding: 0 0 0 0;\n",
              "      width: 32px;\n",
              "    }\n",
              "\n",
              "    .colab-df-convert:hover {\n",
              "      background-color: #E2EBFA;\n",
              "      box-shadow: 0px 1px 2px rgba(60, 64, 67, 0.3), 0px 1px 3px 1px rgba(60, 64, 67, 0.15);\n",
              "      fill: #174EA6;\n",
              "    }\n",
              "\n",
              "    .colab-df-buttons div {\n",
              "      margin-bottom: 4px;\n",
              "    }\n",
              "\n",
              "    [theme=dark] .colab-df-convert {\n",
              "      background-color: #3B4455;\n",
              "      fill: #D2E3FC;\n",
              "    }\n",
              "\n",
              "    [theme=dark] .colab-df-convert:hover {\n",
              "      background-color: #434B5C;\n",
              "      box-shadow: 0px 1px 3px 1px rgba(0, 0, 0, 0.15);\n",
              "      filter: drop-shadow(0px 1px 2px rgba(0, 0, 0, 0.3));\n",
              "      fill: #FFFFFF;\n",
              "    }\n",
              "  </style>\n",
              "\n",
              "    <script>\n",
              "      const buttonEl =\n",
              "        document.querySelector('#df-b350c42a-39d8-4f22-91c4-de361e1d628c button.colab-df-convert');\n",
              "      buttonEl.style.display =\n",
              "        google.colab.kernel.accessAllowed ? 'block' : 'none';\n",
              "\n",
              "      async function convertToInteractive(key) {\n",
              "        const element = document.querySelector('#df-b350c42a-39d8-4f22-91c4-de361e1d628c');\n",
              "        const dataTable =\n",
              "          await google.colab.kernel.invokeFunction('convertToInteractive',\n",
              "                                                    [key], {});\n",
              "        if (!dataTable) return;\n",
              "\n",
              "        const docLinkHtml = 'Like what you see? Visit the ' +\n",
              "          '<a target=\"_blank\" href=https://colab.research.google.com/notebooks/data_table.ipynb>data table notebook</a>'\n",
              "          + ' to learn more about interactive tables.';\n",
              "        element.innerHTML = '';\n",
              "        dataTable['output_type'] = 'display_data';\n",
              "        await google.colab.output.renderOutput(dataTable, element);\n",
              "        const docLink = document.createElement('div');\n",
              "        docLink.innerHTML = docLinkHtml;\n",
              "        element.appendChild(docLink);\n",
              "      }\n",
              "    </script>\n",
              "  </div>\n",
              "\n",
              "\n",
              "    <div id=\"df-abe289a8-5f76-4031-ae5c-32730d28fb0e\">\n",
              "      <button class=\"colab-df-quickchart\" onclick=\"quickchart('df-abe289a8-5f76-4031-ae5c-32730d28fb0e')\"\n",
              "                title=\"Suggest charts\"\n",
              "                style=\"display:none;\">\n",
              "\n",
              "<svg xmlns=\"http://www.w3.org/2000/svg\" height=\"24px\"viewBox=\"0 0 24 24\"\n",
              "     width=\"24px\">\n",
              "    <g>\n",
              "        <path d=\"M19 3H5c-1.1 0-2 .9-2 2v14c0 1.1.9 2 2 2h14c1.1 0 2-.9 2-2V5c0-1.1-.9-2-2-2zM9 17H7v-7h2v7zm4 0h-2V7h2v10zm4 0h-2v-4h2v4z\"/>\n",
              "    </g>\n",
              "</svg>\n",
              "      </button>\n",
              "\n",
              "<style>\n",
              "  .colab-df-quickchart {\n",
              "      --bg-color: #E8F0FE;\n",
              "      --fill-color: #1967D2;\n",
              "      --hover-bg-color: #E2EBFA;\n",
              "      --hover-fill-color: #174EA6;\n",
              "      --disabled-fill-color: #AAA;\n",
              "      --disabled-bg-color: #DDD;\n",
              "  }\n",
              "\n",
              "  [theme=dark] .colab-df-quickchart {\n",
              "      --bg-color: #3B4455;\n",
              "      --fill-color: #D2E3FC;\n",
              "      --hover-bg-color: #434B5C;\n",
              "      --hover-fill-color: #FFFFFF;\n",
              "      --disabled-bg-color: #3B4455;\n",
              "      --disabled-fill-color: #666;\n",
              "  }\n",
              "\n",
              "  .colab-df-quickchart {\n",
              "    background-color: var(--bg-color);\n",
              "    border: none;\n",
              "    border-radius: 50%;\n",
              "    cursor: pointer;\n",
              "    display: none;\n",
              "    fill: var(--fill-color);\n",
              "    height: 32px;\n",
              "    padding: 0;\n",
              "    width: 32px;\n",
              "  }\n",
              "\n",
              "  .colab-df-quickchart:hover {\n",
              "    background-color: var(--hover-bg-color);\n",
              "    box-shadow: 0 1px 2px rgba(60, 64, 67, 0.3), 0 1px 3px 1px rgba(60, 64, 67, 0.15);\n",
              "    fill: var(--button-hover-fill-color);\n",
              "  }\n",
              "\n",
              "  .colab-df-quickchart-complete:disabled,\n",
              "  .colab-df-quickchart-complete:disabled:hover {\n",
              "    background-color: var(--disabled-bg-color);\n",
              "    fill: var(--disabled-fill-color);\n",
              "    box-shadow: none;\n",
              "  }\n",
              "\n",
              "  .colab-df-spinner {\n",
              "    border: 2px solid var(--fill-color);\n",
              "    border-color: transparent;\n",
              "    border-bottom-color: var(--fill-color);\n",
              "    animation:\n",
              "      spin 1s steps(1) infinite;\n",
              "  }\n",
              "\n",
              "  @keyframes spin {\n",
              "    0% {\n",
              "      border-color: transparent;\n",
              "      border-bottom-color: var(--fill-color);\n",
              "      border-left-color: var(--fill-color);\n",
              "    }\n",
              "    20% {\n",
              "      border-color: transparent;\n",
              "      border-left-color: var(--fill-color);\n",
              "      border-top-color: var(--fill-color);\n",
              "    }\n",
              "    30% {\n",
              "      border-color: transparent;\n",
              "      border-left-color: var(--fill-color);\n",
              "      border-top-color: var(--fill-color);\n",
              "      border-right-color: var(--fill-color);\n",
              "    }\n",
              "    40% {\n",
              "      border-color: transparent;\n",
              "      border-right-color: var(--fill-color);\n",
              "      border-top-color: var(--fill-color);\n",
              "    }\n",
              "    60% {\n",
              "      border-color: transparent;\n",
              "      border-right-color: var(--fill-color);\n",
              "    }\n",
              "    80% {\n",
              "      border-color: transparent;\n",
              "      border-right-color: var(--fill-color);\n",
              "      border-bottom-color: var(--fill-color);\n",
              "    }\n",
              "    90% {\n",
              "      border-color: transparent;\n",
              "      border-bottom-color: var(--fill-color);\n",
              "    }\n",
              "  }\n",
              "</style>\n",
              "\n",
              "      <script>\n",
              "        async function quickchart(key) {\n",
              "          const quickchartButtonEl =\n",
              "            document.querySelector('#' + key + ' button');\n",
              "          quickchartButtonEl.disabled = true;  // To prevent multiple clicks.\n",
              "          quickchartButtonEl.classList.add('colab-df-spinner');\n",
              "          try {\n",
              "            const charts = await google.colab.kernel.invokeFunction(\n",
              "                'suggestCharts', [key], {});\n",
              "          } catch (error) {\n",
              "            console.error('Error during call to suggestCharts:', error);\n",
              "          }\n",
              "          quickchartButtonEl.classList.remove('colab-df-spinner');\n",
              "          quickchartButtonEl.classList.add('colab-df-quickchart-complete');\n",
              "        }\n",
              "        (() => {\n",
              "          let quickchartButtonEl =\n",
              "            document.querySelector('#df-abe289a8-5f76-4031-ae5c-32730d28fb0e button');\n",
              "          quickchartButtonEl.style.display =\n",
              "            google.colab.kernel.accessAllowed ? 'block' : 'none';\n",
              "        })();\n",
              "      </script>\n",
              "    </div>\n",
              "\n",
              "    </div>\n",
              "  </div>\n"
            ],
            "application/vnd.google.colaboratory.intrinsic+json": {
              "type": "dataframe",
              "variable_name": "df"
            }
          },
          "metadata": {},
          "execution_count": 2
        }
      ]
    },
    {
      "cell_type": "markdown",
      "source": [
        "Defined helper functions for the Kalman filter strategy:\n",
        "\n",
        "*trade_pnl* calculates the PnL for each trade based on entry/exit spread, TTE, and trade direction.\n",
        "\n",
        "*performance_from_trades* computes strategy metrics (absolute return, annualized Sharpe, max drawdown, drawdown %, win rate, trade count) and constructs the cumulative equity series from the trade-level PnL."
      ],
      "metadata": {
        "id": "DhHMDzKPBEPb"
      }
    },
    {
      "cell_type": "code",
      "source": [
        "def trade_pnl(spread_entry, spread_exit, tte_entry, direction, multiplier=1.0):\n",
        "    sign = 1 if direction=='long_spread' else -1\n",
        "    pnl = (spread_exit - spread_entry) * (tte_entry**0.7) * sign * multiplier\n",
        "    return pnl\n",
        "\n",
        "def performance_from_trades(trades_df):\n",
        "    if trades_df.empty or 'Pnl' not in trades_df.columns:\n",
        "        return {\n",
        "            'Absolute Return': 0,\n",
        "            'Annualized Sharpe': np.nan,\n",
        "            'Max Drawdown': np.nan,\n",
        "            'Max Drawdown %': np.nan,\n",
        "            'Win Rate': np.nan,\n",
        "            'Trade Count': 0,\n",
        "            'Equity Series': pd.Series(dtype=float)\n",
        "        }\n",
        "\n",
        "    trades_df = trades_df.copy()\n",
        "    trades_df['Pnl'] = pd.to_numeric(trades_df['Pnl'], errors='coerce')\n",
        "    trades_df = trades_df.dropna(subset=['Pnl'])\n",
        "    if trades_df.empty:\n",
        "        return {\n",
        "            'Absolute Return': 0,\n",
        "            'Annualized Sharpe': np.nan,\n",
        "            'Max Drawdown': np.nan,\n",
        "            'Max Drawdown %': np.nan,\n",
        "            'Win Rate': np.nan,\n",
        "            'Trade Count': 0,\n",
        "            'Equity Series': pd.Series(dtype=float)\n",
        "        }\n",
        "\n",
        "    equity = trades_df['Pnl'].cumsum().rename('Equity')\n",
        "    equity = equity.fillna(method='ffill').fillna(0)\n",
        "\n",
        "    total_return = equity.iloc[-1] if len(equity) > 0 else 0\n",
        "    trade_count = len(trades_df)\n",
        "    win_rate = (trades_df['Pnl'] > 0).mean() * 100 if trade_count > 0 else np.nan\n",
        "\n",
        "    trades_df['Exit_date'] = pd.to_datetime(trades_df['Exit_time']).dt.date\n",
        "    daily_pnl = trades_df.groupby('Exit_date')['Pnl'].sum()\n",
        "    daily_ret = daily_pnl.values\n",
        "    if len(daily_ret) > 1 and np.std(daily_ret) > 0:\n",
        "        ann_sharpe = (np.mean(daily_ret) / np.std(daily_ret)) * np.sqrt(252)\n",
        "    else:\n",
        "        ann_sharpe = np.nan\n",
        "\n",
        "    running_max = np.maximum.accumulate(equity.values)\n",
        "    drawdowns = running_max - equity.values\n",
        "    max_dd = np.nanmax(drawdowns) if len(drawdowns) > 0 else np.nan\n",
        "    max_dd_pct = (max_dd / running_max.max() * 100) if running_max.max() > 0 else np.nan\n",
        "\n",
        "    return {\n",
        "        'Absolute Return': float(total_return),\n",
        "        'Annualized Sharpe': float(ann_sharpe),\n",
        "        'Max Drawdown': float(max_dd),\n",
        "        'Max Drawdown %': float(max_dd_pct),\n",
        "        'Win Rate': float(win_rate),\n",
        "        'Trade Count': trade_count,\n",
        "        'Equity Series': equity\n",
        "    }\n"
      ],
      "metadata": {
        "id": "3xPIMNuRo959"
      },
      "execution_count": 3,
      "outputs": []
    },
    {
      "cell_type": "markdown",
      "source": [
        "Implemented Kalman filter to estimate a time-varying hedge ratio (beta) between two series, recursively updating beta using observation and state covariance, returning dynamic beta series."
      ],
      "metadata": {
        "id": "KlXkcdrjBoEW"
      }
    },
    {
      "cell_type": "code",
      "source": [
        "def kalman_beta_series(x, y, delta=1e-5, R=0.01):\n",
        "    x = np.asarray(x)\n",
        "    y = np.asarray(y)\n",
        "    n = len(x)\n",
        "    beta = np.zeros(n)\n",
        "    P = np.array([[1.0]])\n",
        "    beta_t = np.array([0.0])\n",
        "    Q = delta / (1 - delta) * np.eye(1)\n",
        "\n",
        "    for t in range(n):\n",
        "        H = np.array([[x[t]]])\n",
        "        S = H.dot(P).dot(H.T) + R\n",
        "        K = P.dot(H.T) / S\n",
        "        yhat = (H.dot(beta_t))[0]\n",
        "        residual = y[t] - yhat\n",
        "        beta_t = beta_t + (K.flatten() * residual)\n",
        "        P = (P - K.dot(H).dot(P)) + Q\n",
        "        beta[t] = beta_t[0]\n",
        "\n",
        "    return beta\n"
      ],
      "metadata": {
        "id": "gy-RBlZvpAJK"
      },
      "execution_count": 4,
      "outputs": []
    },
    {
      "cell_type": "markdown",
      "source": [
        "Implemented Kalman-residual-based backtest for pairs trading, computing dynamic beta between BankNifty and Nifty, calculating residuals, z-scores, correlation and volatility scaling, generating trades with entry/exit rules, stop-loss, max holding, and returning trade-level PnL along with intermediate data series."
      ],
      "metadata": {
        "id": "JoJMSeyOCC4p"
      }
    },
    {
      "cell_type": "code",
      "source": [
        "def backtest_kalman_residual(df,\n",
        "                             kalman_delta=1e-5,\n",
        "                             obs_var=0.01,\n",
        "                             rm_window=120,\n",
        "                             z_entry=1.0, z_exit=0.4,\n",
        "                             multiplier=5000,\n",
        "                             volatility_scale_window=120,\n",
        "                             min_corr=0.7,\n",
        "                             max_holding_minutes=5*390,\n",
        "                             stop_loss_point=0.5):\n",
        "\n",
        "    y = df[bn_col].values\n",
        "    x = df[nf_col].values\n",
        "    beta_series = kalman_beta_series(x, y, delta=kalman_delta, R=obs_var)\n",
        "\n",
        "    data = df[['spread', tte_col]].copy().rename(columns={tte_col:'tte'})\n",
        "    data['beta'] = beta_series\n",
        "    data['resid'] = df[bn_col].values - data['beta'] * df[nf_col].values\n",
        "    data['rm_resid'] = data['resid'].ewm(span=rm_window, adjust=False).mean()\n",
        "    data['std_resid'] = data['resid'].ewm(span=rm_window, adjust=False).std()\n",
        "    data['z_resid'] = (data['resid'] - data['rm_resid']) / data['std_resid']\n",
        "    data['corr'] = df[bn_col].rolling(window=rm_window, min_periods=10).corr(df[nf_col])\n",
        "    data['vol_scale'] = 1.0 / (data['std_resid'].rolling(window=volatility_scale_window, min_periods=10).mean() + 1e-8)\n",
        "    data['vol_scale'] = data['vol_scale'].clip(0.1, 10.0)\n",
        "\n",
        "    trades = []\n",
        "    status = 0\n",
        "    entry_index = None\n",
        "    entry_time = None\n",
        "    entry_s = None\n",
        "    entry_tte = None\n",
        "    entry_z = None\n",
        "    entry_vol_scale = None\n",
        "    holding_counter = 0\n",
        "    indices = list(data.index)\n",
        "\n",
        "    for i, ts in enumerate(indices):\n",
        "        row = data.iloc[i]\n",
        "        z = row['z_resid']; s=row['spread']; tte=row['tte']; corr=row['corr']; vol_scale=row['vol_scale']\n",
        "        if pd.isna(z) or pd.isna(corr): continue\n",
        "\n",
        "        if corr < min_corr:\n",
        "            if status!=0:\n",
        "                exit_time = ts; exit_s = s\n",
        "                pnl = trade_pnl(entry_s, exit_s, entry_tte, direction=('long_spread' if status==2 else 'short_spread'), multiplier=entry_vol_scale*multiplier)\n",
        "                trades.append({'Entry_time':entry_time,'Exit_time':exit_time,'Pnl':pnl})\n",
        "                status=0; entry_index=None\n",
        "            continue\n",
        "\n",
        "        if status==0 and z > z_entry:\n",
        "            status=1; entry_index=i; entry_time=ts; entry_s=s; entry_tte=tte; entry_z=z; entry_vol_scale=vol_scale; holding_counter=0\n",
        "            continue\n",
        "\n",
        "        if status==0 and z < -z_entry:\n",
        "            status=2; entry_index=i; entry_time=ts; entry_s=s; entry_tte=tte; entry_z=z; entry_vol_scale=vol_scale; holding_counter=0\n",
        "            continue\n",
        "\n",
        "        if status!=0:\n",
        "            holding_counter += 1\n",
        "            if (status==1 and z < z_exit) or (status==2 and z > -z_exit):\n",
        "                exit_time = ts; exit_s = s\n",
        "                pnl = trade_pnl(entry_s, exit_s, entry_tte, direction=('short_spread' if status==1 else 'long_spread'), multiplier=entry_vol_scale*multiplier)\n",
        "                trades.append({'Entry_time':entry_time,'Exit_time':exit_time,'Pnl':pnl})\n",
        "                status=0; entry_index=None; continue\n",
        "\n",
        "            adverse_move = (s - entry_s) if status==2 else (entry_s - s)\n",
        "            if adverse_move < -stop_loss_point:\n",
        "                exit_time = ts; exit_s = s\n",
        "                pnl = trade_pnl(entry_s, exit_s, entry_tte, direction=('long_spread' if status==2 else 'short_spread'), multiplier=entry_vol_scale*multiplier)\n",
        "                trades.append({'Entry_time':entry_time,'Exit_time':exit_time,'Pnl':pnl, 'Exit_reason': 'stop_loss'})\n",
        "                status=0; entry_index=None; continue\n",
        "\n",
        "            if holding_counter >= max_holding_minutes:\n",
        "                exit_time = ts; exit_s = s\n",
        "                pnl = trade_pnl(entry_s, exit_s, entry_tte, direction=('long_spread' if status==2 else 'short_spread'), multiplier=entry_vol_scale*multiplier)\n",
        "                trades.append({'Entry_time':entry_time,'Exit_time':exit_time,'Pnl':pnl, 'Exit_reason': 'max_holding'})\n",
        "                status=0; entry_index=None; continue\n",
        "\n",
        "    trades_df = pd.DataFrame(trades)\n",
        "    return trades_df, data\n"
      ],
      "metadata": {
        "id": "tbCUcT9CpD8I"
      },
      "execution_count": 5,
      "outputs": []
    },
    {
      "cell_type": "markdown",
      "source": [
        "Implemented Kalman filter-based pairs trading strategy: calculated time-varying hedge ratio (beta) between BankNifty and Nifty, generated residual-based z-scores, applied dynamic entry/exit thresholds with volatility scaling, enforced correlation and stop-loss rules, executed backtest, and computed performance metrics."
      ],
      "metadata": {
        "id": "pe9dGzTHCJkI"
      }
    },
    {
      "cell_type": "code",
      "source": [
        "params = dict(\n",
        "    kalman_delta = 1e-5,\n",
        "    obs_var = 0.01,\n",
        "    rm_window = 120,\n",
        "    z_entry = 1.0,\n",
        "    z_exit = 0.4,\n",
        "    multiplier = 5000,\n",
        "    volatility_scale_window = 120,\n",
        "    min_corr = 0.75,\n",
        "    max_holding_minutes = 5*390,\n",
        "    stop_loss_point = 1.0\n",
        ")\n",
        "\n",
        "trades_kalman, kalman_data = backtest_kalman_residual(df,\n",
        "                                                     kalman_delta=params['kalman_delta'],\n",
        "                                                     obs_var=params['obs_var'],\n",
        "                                                     rm_window=params['rm_window'],\n",
        "                                                     z_entry=params['z_entry'],\n",
        "                                                     z_exit=params['z_exit'],\n",
        "                                                     multiplier=params['multiplier'],\n",
        "                                                     volatility_scale_window=params['volatility_scale_window'],\n",
        "                                                     min_corr=params['min_corr'],\n",
        "                                                     max_holding_minutes=params['max_holding_minutes'],\n",
        "                                                     stop_loss_point=params['stop_loss_point'])\n",
        "\n",
        "metrics_kalman = performance_from_trades(trades_kalman)\n",
        "print(\"Kalman-residual metrics:\")\n",
        "for k,v in metrics_kalman.items():\n",
        "    if k!='Equity Series': print(k, v)\n"
      ],
      "metadata": {
        "colab": {
          "base_uri": "https://localhost:8080/"
        },
        "id": "IR9Y0MaVpGl9",
        "outputId": "0f67d951-c1b9-46ec-8af2-34e1eaa0fc32"
      },
      "execution_count": 6,
      "outputs": [
        {
          "output_type": "stream",
          "name": "stdout",
          "text": [
            "Kalman-residual metrics:\n",
            "Absolute Return 3226235.0771087925\n",
            "Annualized Sharpe 6.016379875588122\n",
            "Max Drawdown 9964.527762083919\n",
            "Max Drawdown % 0.3088473618275271\n",
            "Win Rate 89.46629213483146\n",
            "Trade Count 2848\n"
          ]
        }
      ]
    },
    {
      "cell_type": "markdown",
      "source": [
        "Plotted cumulative PnL of the Kalman-residual strategy"
      ],
      "metadata": {
        "id": "yIhYja48CO2I"
      }
    },
    {
      "cell_type": "code",
      "source": [
        "plt.figure(figsize=(14,8))\n",
        "if not metrics_kalman['Equity Series'].empty:\n",
        "    metrics_kalman['Equity Series'].rename(\"Kalman Residual\").plot()\n",
        "plt.title(\"Cumulative PnL: Kalman Residual\")\n",
        "plt.legend()\n",
        "plt.show()\n"
      ],
      "metadata": {
        "colab": {
          "base_uri": "https://localhost:8080/",
          "height": 699
        },
        "id": "bPhzo-0opKXN",
        "outputId": "1060b07a-68e2-4a57-b216-009399561f6f"
      },
      "execution_count": 10,
      "outputs": [
        {
          "output_type": "display_data",
          "data": {
            "text/plain": [
              "<Figure size 1400x800 with 1 Axes>"
            ],
            "image/png": "[encoded data removed]"
          },
          "metadata": {}
        }
      ]
    }
  ],
  "metadata": {
    "colab": {
      "provenance": []
    },
    "kernelspec": {
      "display_name": "Python 3",
      "name": "python3"
    },
    "language_info": {
      "name": "python"
    }
  },
  "nbformat": 4,
  "nbformat_minor": 0
}